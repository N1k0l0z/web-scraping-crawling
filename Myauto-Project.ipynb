{
 "cells": [
  {
   "cell_type": "code",
   "execution_count": 1,
   "id": "c966ff75b37c59b6",
   "metadata": {
    "ExecuteTime": {
     "end_time": "2024-05-17T15:21:31.638043Z",
     "start_time": "2024-05-17T15:21:31.047903Z"
    },
    "jupyter": {
     "outputs_hidden": false
    },
    "metadata": {}
   },
   "outputs": [],
   "source": [
    "from selenium import webdriver\n",
    "from selenium.webdriver.common.by import By\n",
    "from selenium.webdriver.common.action_chains import ActionChains\n",
    "from selenium.webdriver.support.ui import WebDriverWait\n",
    "from selenium.webdriver.support import expected_conditions as EC\n",
    "from selenium.webdriver.chrome.options import Options\n",
    "from selenium.webdriver.chrome.service import Service\n",
    "from webdriver_manager.chrome import ChromeDriverManager\n",
    "from bs4 import BeautifulSoup\n",
    "from time import sleep \n",
    "import requests\n",
    "import pandas as pd\n",
    "import numpy as np"
   ]
  },
  {
   "cell_type": "code",
   "execution_count": 2,
   "id": "727bccf7-da8d-4b44-8e24-b16d608c363d",
   "metadata": {
    "ExecuteTime": {
     "end_time": "2024-05-17T15:36:21.403021Z",
     "start_time": "2024-05-17T15:36:21.378717Z"
    },
    "jupyter": {
     "outputs_hidden": false
    },
    "metadata": {}
   },
   "outputs": [],
   "source": [
    "def get_links(url, start_year = 'NG', end_year = 'NG', manufacturer_name = 'any', login = 'login', password = 'password', start_price = 'NG', end_price = 'NG', fuel_type = 'NG'):\n",
    "    chrome_options = Options()\n",
    "    chrome_options.add_argument('--headless')\n",
    "    chrome_options.add_argument('--disable-gpu') \n",
    "\n",
    "    service = Service(ChromeDriverManager().install())\n",
    "    driver = webdriver.Chrome(service=service, options=chrome_options)\n",
    "    driver.get(url=url)\n",
    "    driver.maximize_window()\n",
    "    wait = WebDriverWait(driver, 10)  \n",
    "    sleep(2)\n",
    "    cookie = wait.until(EC.element_to_be_clickable((By.XPATH, '/html/body/div[2]/div[3]/div/button')))\n",
    "    cookie.click()\n",
    "    if login != 'login' and password != 'password':\n",
    "        login_button = wait.until(EC.element_to_be_clickable((By.XPATH, '//*[@id=\"app\"]/div[1]/header/div[2]/div/div/div[2]/div[2]')))\n",
    "        if \"შესვლა\" in login_button.text:\n",
    "            login_button.click()\n",
    "\n",
    "            email_input = wait.until(EC.element_to_be_clickable((By.XPATH, '/html/body/div[1]/div/div/div[1]/div[2]/div/div/div/div/form/div[1]/div[1]/div/input')))\n",
    "            email_input.send_keys(login) # \"kordzaxianika@gmail.com\"\n",
    "\n",
    "            password_input = wait.until(EC.element_to_be_clickable((By.XPATH, '/html/body/div[1]/div/div/div[1]/div[2]/div/div/div/div/form/div[1]/div[2]/div/input')))\n",
    "            password_input.send_keys(password) # \"Seleniumtest01\"\n",
    "\n",
    "            login_button = driver.find_element(By.XPATH, '/html/body/div[1]/div/div/div[1]/div[2]/div/div/div/div/form/div[3]/button')\n",
    "            login_button.click()\n",
    "    \n",
    "    actions = ActionChains(driver) \n",
    "\n",
    "    if manufacturer_name != 'any':\n",
    "        manufacturer_button = wait.until(EC.element_to_be_clickable((By.XPATH, '/html/body/div[2]/div[1]/div[3]/div/div[1]/div[2]/div[2]/div/div[1]')))\n",
    "        manufacturer_button.click() \n",
    "        sleep(5)\n",
    "        models = driver.find_elements(By.XPATH, '//label[@class=\"flex relative cursor-pointer px-[24px] py-[10px] mb-0 \"]//span[@class=\"flex text-[14px] md:text-[12px] xl:text-[14px] \"]')\n",
    "        for model in models:                     \n",
    "            if model.text == manufacturer_name:\n",
    "                actions.move_to_element(model).perform()  \n",
    "                sleep(1) \n",
    "                model.click()\n",
    "                break\n",
    "\n",
    "    my_auto = driver.find_element(By.CLASS_NAME, 'd-flex.icon-h-32px.icon-h-sm-40px') \n",
    "    actions.move_to_element(my_auto).perform()  \n",
    "    my_auto.click()\n",
    "    sleep(10)\n",
    "    if start_year != 'NG' or end_year != 'NG':\n",
    "        years = wait.until(EC.element_to_be_clickable((By.XPATH, '/html/body/div[2]/div[1]/div[3]/div/div[1]/div[2]/div[2]/div/div[5]')))\n",
    "        ActionChains(driver).move_to_element(years).perform()\n",
    "        years.click()\n",
    "        sleep(3)\n",
    "        start_input = wait.until(EC.element_to_be_clickable((By.XPATH, '/html/body/div[2]/div[1]/div[3]/div/div[1]/div[2]/div[2]/div/div[5]/div[2]/div[1]/div[1]/div[1]/div/div/input')))\n",
    "        start_input.send_keys(str(start_year))\n",
    "        \n",
    "        end_input = wait.until(EC.element_to_be_clickable((By.XPATH, '/html/body/div[2]/div[1]/div[3]/div/div[1]/div[2]/div[2]/div/div[5]/div[2]/div[1]/div[1]/div[2]/div/div/input')))\n",
    "        end_input.send_keys(str(end_year))\n",
    "    sleep(5)\n",
    "    if start_price != 'NG' or end_price != 'NG':\n",
    "        prices = wait.until(EC.element_to_be_clickable((By.XPATH, '/html/body/div[2]/div[1]/div[3]/div/div[1]/div[2]/div[2]/div/div[6]')))\n",
    "        ActionChains(driver).move_to_element(prices).perform()\n",
    "        prices.click()\n",
    "        sleep(3)\n",
    "        start_price_input = wait.until(EC.element_to_be_clickable((By.XPATH, '/html/body/div[2]/div[1]/div[3]/div/div[1]/div[2]/div[2]/div/div[6]/div[2]/div[1]/div[2]/div[1]/div/div/input')))\n",
    "        start_price_input.send_keys(str(start_price))\n",
    "        \n",
    "        end_price_input = wait.until(EC.element_to_be_clickable((By.XPATH, '/html/body/div[2]/div[1]/div[3]/div/div[1]/div[2]/div[2]/div/div[6]/div[2]/div[1]/div[2]/div[2]/div/div/input')))\n",
    "        end_price_input.send_keys(str(end_price))\n",
    "    \n",
    "    if fuel_type != 'NG':\n",
    "        fuels = wait.until(EC.element_to_be_clickable((By.XPATH, '/html/body/div[2]/div[1]/div[3]/div/div[1]/div[2]/div[2]/div/div[7]')))\n",
    "        ActionChains(driver).move_to_element(fuels).perform()\n",
    "        fuels.click()\n",
    "        sleep(2)\n",
    "        fuel_buttons = driver.find_elements(By.XPATH, \"//label[contains(@class, 'cursor-pointer')]\")\n",
    " \n",
    "        for button in fuel_buttons:\n",
    "            if fuel_type == button.text:\n",
    "                actions = ActionChains(driver)\n",
    "                actions.move_to_element(button).perform()\n",
    "                button.click()\n",
    "                break\n",
    "    buttons = driver.find_elements(By.TAG_NAME, \"button\") \n",
    "    for button in buttons:\n",
    "        if \"ძებნა\" in button.text:\n",
    "            actions = ActionChains(driver)\n",
    "            actions.move_to_element(button).perform()\n",
    "            button.click()\n",
    "            break\n",
    "    sleep(5)\n",
    "    list_link = []\n",
    "    n = 1\n",
    "    next_button = True\n",
    "    while next_button:\n",
    "        if n > 1:\n",
    "            nxt_buttons = driver.find_elements(By.TAG_NAME, \"li\")\n",
    "            found = False\n",
    "            for button in nxt_buttons:\n",
    "                if str(n) == button.text:\n",
    "                    actions = ActionChains(driver)\n",
    "                    actions.move_to_element(button).perform()\n",
    "                    button.click()\n",
    "                    found = True\n",
    "                    break\n",
    "            if not found:\n",
    "                next_button = False\n",
    "            sleep(3)\n",
    "        page_source = driver.page_source\n",
    "        soup = BeautifulSoup(page_source, 'html.parser')\n",
    "        links = soup.find_all('a', attrs={'class': 'w-full md:w-auto'})\n",
    "        for link in links:\n",
    "            href = link.get('href')\n",
    "            list_link.append('https://www.myauto.ge' + href)\n",
    "        n += 1\n",
    "    sleep(1) \n",
    "    if driver:\n",
    "        driver.quit()\n",
    "    return list_link"
   ]
  },
  {
   "cell_type": "code",
   "execution_count": null,
   "id": "5a627cc9",
   "metadata": {},
   "outputs": [],
   "source": [
    "links = get_links(url='https://www.myauto.ge/ka',  start_year = 2000, end_year=2000, manufacturer_name = 'Audi')"
   ]
  },
  {
   "cell_type": "code",
   "execution_count": 13,
   "id": "beb40d9d18e458d9",
   "metadata": {
    "ExecuteTime": {
     "end_time": "2024-05-17T15:56:38.611350Z",
     "start_time": "2024-05-17T15:56:38.603128Z"
    }
   },
   "outputs": [],
   "source": [
    "def read_text(data_list, link, index):\n",
    "    chrome_options = Options()\n",
    "    #chrome_options.add_argument('--headless')\n",
    "    #chrome_options.add_argument('--disable-gpu') \n",
    "\n",
    "    # Use WebDriver manager to handle ChromeDriver\n",
    "    service = Service(ChromeDriverManager().install())\n",
    "    driver = webdriver.Chrome(service=service, options=chrome_options)\n",
    "    try:\n",
    "        driver.get(link)\n",
    "        wait = WebDriverWait(driver, 10)\n",
    "\n",
    "        model = wait.until(EC.element_to_be_clickable((By.XPATH, '//*[@id=\"sticky-bottom-boundary\"]/div[1]/div[1]/div[1]/div[2]/span[1]')))\n",
    "        \n",
    "        data_list['Index'].append(index)\n",
    "        data_list['Link'].append(link)\n",
    "        data_list['Model'].append(model.text)\n",
    "        \n",
    "    except Exception as e:\n",
    "        print(f\"An error occurred: {e}\")\n",
    "    \n",
    "    finally:\n",
    "        driver.quit()\n",
    "    return data_list"
   ]
  },
  {
   "cell_type": "code",
   "execution_count": 14,
   "id": "3c49391de40d28c1",
   "metadata": {
    "ExecuteTime": {
     "end_time": "2024-05-17T15:56:38.620002Z",
     "start_time": "2024-05-17T15:56:38.613577Z"
    }
   },
   "outputs": [],
   "source": [
    "def read_links():\n",
    "    global links\n",
    "    data_list = {}\n",
    "    data_list['Index'] = []\n",
    "    data_list['Link'] = []\n",
    "    data_list['Model'] = []\n",
    "    n = 1\n",
    "    #links = get_links(url='https://www.myauto.ge/ka',  start_year = 2000, end_year=2000, manufacturer_name = 'Audi')\n",
    "    index = 1\n",
    "    for link in links:\n",
    "        sleep(1)\n",
    "        data_list = read_text(data_list, link, index)\n",
    "        index = index + 1\n",
    "        print(n)\n",
    "        n += 1\n",
    "    df = pd.DataFrame(data_list)\n",
    "    return df"
   ]
  },
  {
   "cell_type": "code",
   "execution_count": null,
   "id": "e2314802",
   "metadata": {},
   "outputs": [],
   "source": [
    "%%time\n",
    "read_links()"
   ]
  }
 ],
 "metadata": {
  "kernelspec": {
   "display_name": "Python 3 (ipykernel)",
   "language": "python",
   "name": "python3"
  },
  "language_info": {
   "codemirror_mode": {
    "name": "ipython",
    "version": 3
   },
   "file_extension": ".py",
   "mimetype": "text/x-python",
   "name": "python",
   "nbconvert_exporter": "python",
   "pygments_lexer": "ipython3",
   "version": "3.11.7"
  },
  "widgets": {
   "application/vnd.jupyter.widget-state+json": {
    "state": {},
    "version_major": 2,
    "version_minor": 0
   }
  }
 },
 "nbformat": 4,
 "nbformat_minor": 5
}
